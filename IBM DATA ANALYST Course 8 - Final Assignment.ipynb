{
 "cells": [
  {
   "cell_type": "markdown",
   "metadata": {},
   "source": [
    "# IBM DATA ANALYST Course 8 - Final Assignment"
   ]
  },
  {
   "cell_type": "markdown",
   "metadata": {},
   "source": [
    "# Introduction"
   ]
  },
  {
   "cell_type": "markdown",
   "metadata": {},
   "source": [
    "This notebook serves as the final assignment submission for Course 8 of the IBM Data Analyst Professional Certificate. The assignment focuses on analyzing historical automobile sales data using Python and Dash for creating an interactive dashboard. The goal is to provide insights into automobile sales trends and statistics."
   ]
  },
  {
   "cell_type": "markdown",
   "metadata": {},
   "source": [
    "# Setup"
   ]
  },
  {
   "cell_type": "markdown",
   "metadata": {},
   "source": [
    "Before diving into the analysis, let's import the necessary libraries and load the dataset."
   ]
  },
  {
   "cell_type": "code",
   "execution_count": 1,
   "metadata": {},
   "outputs": [],
   "source": [
    "import dash\n",
    "from dash import dcc\n",
    "from dash import html\n",
    "from dash.dependencies import Input, Output\n",
    "import pandas as pd\n",
    "import plotly.graph_objs as go\n",
    "import plotly.express as px"
   ]
  },
  {
   "cell_type": "code",
   "execution_count": 2,
   "metadata": {},
   "outputs": [
    {
     "name": "stdout",
     "output_type": "stream",
     "text": [
      "Requirement already satisfied: dash in c:\\users\\pc\\appdata\\roaming\\python\\python37\\site-packages (2.15.0)\n",
      "Requirement already satisfied: nest-asyncio in c:\\users\\pc\\miniconda3\\lib\\site-packages (from dash) (1.6.0)\n",
      "Requirement already satisfied: importlib-metadata; python_version >= \"3.7\" in c:\\users\\pc\\appdata\\roaming\\python\\python37\\site-packages (from dash) (6.7.0)\n",
      "Requirement already satisfied: dash-html-components==2.0.0 in c:\\users\\pc\\appdata\\roaming\\python\\python37\\site-packages (from dash) (2.0.0)\n",
      "Requirement already satisfied: Flask<3.1,>=1.0.4 in c:\\users\\pc\\appdata\\roaming\\python\\python37\\site-packages (from dash) (2.2.5)\n",
      "Requirement already satisfied: dash-core-components==2.0.0 in c:\\users\\pc\\miniconda3\\lib\\site-packages (from dash) (2.0.0)\n",
      "Requirement already satisfied: requests in c:\\users\\pc\\miniconda3\\lib\\site-packages (from dash) (2.31.0)\n",
      "Requirement already satisfied: dash-table==5.0.0 in c:\\users\\pc\\appdata\\roaming\\python\\python37\\site-packages (from dash) (5.0.0)\n",
      "Requirement already satisfied: retrying in c:\\users\\pc\\miniconda3\\lib\\site-packages (from dash) (1.3.4)\n",
      "Requirement already satisfied: plotly>=5.0.0 in c:\\users\\pc\\appdata\\roaming\\python\\python37\\site-packages (from dash) (5.18.0)\n",
      "Requirement already satisfied: setuptools in c:\\users\\pc\\miniconda3\\lib\\site-packages (from dash) (40.8.0)\n",
      "Requirement already satisfied: typing-extensions>=4.1.1 in c:\\users\\pc\\miniconda3\\lib\\site-packages (from dash) (4.3.0)\n",
      "Requirement already satisfied: Werkzeug<3.1 in c:\\users\\pc\\appdata\\roaming\\python\\python37\\site-packages (from dash) (2.2.3)\n",
      "Requirement already satisfied: zipp>=0.5 in c:\\users\\pc\\appdata\\roaming\\python\\python37\\site-packages (from importlib-metadata; python_version >= \"3.7\"->dash) (3.15.0)\n",
      "Requirement already satisfied: Jinja2>=3.0 in c:\\users\\pc\\appdata\\roaming\\python\\python37\\site-packages (from Flask<3.1,>=1.0.4->dash) (3.1.3)\n",
      "Requirement already satisfied: click>=8.0 in c:\\users\\pc\\appdata\\roaming\\python\\python37\\site-packages (from Flask<3.1,>=1.0.4->dash) (8.1.7)\n",
      "Requirement already satisfied: itsdangerous>=2.0 in c:\\users\\pc\\appdata\\roaming\\python\\python37\\site-packages (from Flask<3.1,>=1.0.4->dash) (2.1.2)\n",
      "Requirement already satisfied: certifi>=2017.4.17 in c:\\users\\pc\\miniconda3\\lib\\site-packages (from requests->dash) (2024.2.2)\n",
      "Requirement already satisfied: urllib3<3,>=1.21.1 in c:\\users\\pc\\miniconda3\\lib\\site-packages (from requests->dash) (1.24.1)\n",
      "Requirement already satisfied: idna<4,>=2.5 in c:\\users\\pc\\miniconda3\\lib\\site-packages (from requests->dash) (2.8)\n",
      "Requirement already satisfied: charset-normalizer<4,>=2 in c:\\users\\pc\\miniconda3\\lib\\site-packages (from requests->dash) (3.3.2)\n",
      "Requirement already satisfied: six>=1.7.0 in c:\\users\\pc\\miniconda3\\lib\\site-packages (from retrying->dash) (1.12.0)\n",
      "Requirement already satisfied: packaging in c:\\users\\pc\\miniconda3\\lib\\site-packages (from plotly>=5.0.0->dash) (21.3)\n",
      "Requirement already satisfied: tenacity>=6.2.0 in c:\\users\\pc\\appdata\\roaming\\python\\python37\\site-packages (from plotly>=5.0.0->dash) (8.2.3)\n",
      "Requirement already satisfied: MarkupSafe>=2.1.1 in c:\\users\\pc\\miniconda3\\lib\\site-packages (from Werkzeug<3.1->dash) (2.1.5)\n",
      "Requirement already satisfied: colorama; platform_system == \"Windows\" in c:\\users\\pc\\miniconda3\\lib\\site-packages (from click>=8.0->Flask<3.1,>=1.0.4->dash) (0.4.6)\n",
      "Requirement already satisfied: pyparsing!=3.0.5,>=2.0.2 in c:\\users\\pc\\miniconda3\\lib\\site-packages (from packaging->plotly>=5.0.0->dash) (3.0.9)\n",
      "Note: you may need to restart the kernel to use updated packages.\n"
     ]
    }
   ],
   "source": [
    "pip install dash --user"
   ]
  },
  {
   "cell_type": "markdown",
   "metadata": {},
   "source": [
    "# Data Loading"
   ]
  },
  {
   "cell_type": "markdown",
   "metadata": {},
   "source": [
    "We'll start by loading the historical automobile sales data from a CSV file hosted on the web."
   ]
  },
  {
   "cell_type": "code",
   "execution_count": 3,
   "metadata": {},
   "outputs": [],
   "source": [
    "# Load the data using pandas\n",
    "data = pd.read_csv('https://cf-courses-data.s3.us.cloud-object-storage.appdomain.cloud/IBMDeveloperSkillsNetwork-DV0101EN-SkillsNetwork/Data%20Files/historical_automobile_sales.csv')\n"
   ]
  },
  {
   "cell_type": "markdown",
   "metadata": {},
   "source": [
    "# Dashboard Initialization"
   ]
  },
  {
   "cell_type": "markdown",
   "metadata": {},
   "source": [
    "Next, we'll initialize the Dash application and set up the layout for our dashboard."
   ]
  },
  {
   "cell_type": "code",
   "execution_count": 4,
   "metadata": {},
   "outputs": [],
   "source": [
    "# Initialize the Dash app\n",
    "app = dash.Dash(__name__)\n",
    "\n",
    "# Define dropdown menu options\n",
    "dropdown_options = [\n",
    "    {'label': 'Yearly Statistics', 'value': 'Yearly Statistics'},\n",
    "    {'label': 'Recession Period Statistics', 'value': 'Recession Period Statistics'}\n",
    "]\n",
    "\n",
    "# List of years \n",
    "year_list = [i for i in range(1980, 2024, 1)]\n",
    "\n",
    "# Set up the layout\n",
    "app.layout = html.Div([\n",
    "    html.H1(\"Automobile Sales Statistics Dashboard\", style={'textAlign':'left', 'color':'#503D36', 'font-size':24}),\n",
    "    html.Div([\n",
    "        html.Label(\"Select Statistics:\"),\n",
    "        dcc.Dropdown(\n",
    "            id='dropdown-statistics',\n",
    "            options=dropdown_options,\n",
    "            value='Select Statistics',\n",
    "            placeholder='Select a report type'\n",
    "        )\n",
    "    ]),\n",
    "    html.Div(dcc.Dropdown(\n",
    "            id='select-year',\n",
    "            options=[{'label': i, 'value': i} for i in year_list],\n",
    "            value='select-year'\n",
    "        )),\n",
    "    html.Div([\n",
    "        html.Div(id='output-container', className='chart-grid', style={'display':'flex'})\n",
    "    ])\n",
    "])\n"
   ]
  },
  {
   "cell_type": "markdown",
   "metadata": {},
   "source": [
    "# Callbacks"
   ]
  },
  {
   "cell_type": "markdown",
   "metadata": {},
   "source": [
    "We'll define callback functions to update the dashboard based on user input."
   ]
  },
  {
   "cell_type": "code",
   "execution_count": 6,
   "metadata": {},
   "outputs": [],
   "source": [
    "#TASK 2.4: Creating Callbacks\n",
    "# Define the callback function to update the input container based on the selected statistics\n",
    "@app.callback(\n",
    "    Output(component_id='output-container', component_property='children'),\n",
    "    [Input(component_id='dropdown-statistics', component_property='value'), Input(component_id='select-year', component_property='value')]\n",
    ")\n",
    "def update_output_container(selected_statistics, input_year):\n",
    "    if selected_statistics == 'Recession Period Statistics':\n",
    "        # Filter the data for recession periods\n",
    "        recession_data = data[data['Recession'] == 1]\n",
    "        \n",
    "        # Plot 1: Automobile sales fluctuate over Recession Period (year wise)\n",
    "        yearly_rec = recession_data.groupby('Year')['Automobile_Sales'].mean().reset_index()\n",
    "        R_chart1 = dcc.Graph(\n",
    "            figure=px.line(yearly_rec, x='Year', y='Automobile_Sales', title=\"Average Automobile Sales fluctuation over Recession Period\")\n",
    "        )\n",
    "\n",
    "        # Plot 2: Calculate the average number of vehicles sold by vehicle type       \n",
    "        average_sales = recession_data.groupby('Vehicle_Type')['Automobile_Sales'].mean().reset_index()                           \n",
    "        R_chart2 = dcc.Graph(\n",
    "            figure=px.bar(average_sales, x='Vehicle_Type', y='Automobile_Sales', title='Average Number of Vehicles Sold by Type')\n",
    "        )\n",
    "        \n",
    "        # Plot 3: Pie chart for total expenditure share by vehicle type during recessions\n",
    "        exp_rec = recession_data.groupby('Vehicle_Type')['Advertising_Expenditure'].sum().reset_index()\n",
    "        R_chart3 = dcc.Graph(\n",
    "            figure=px.pie(exp_rec, values='Advertising_Expenditure', names='Vehicle_Type', title=\"Total Expenditure by Vehicle Type\")\n",
    "        )\n",
    "\n",
    "        # Plot 4: Bar chart for the effect of unemployment rate on vehicle type and sales\n",
    "        unempl = recession_data.groupby(['Vehicle_Type', 'unemployment_rate'])['Automobile_Sales'].mean().reset_index()\n",
    "        R_chart4 = dcc.Graph(\n",
    "            figure=px.bar(unempl, x='Vehicle_Type', y='Automobile_Sales', color='unemployment_rate', title='Effect of Unemployment Rate on Vehicle Type and Sales')\n",
    "        )\n",
    "\n",
    "        return [\n",
    "            html.Div(className='chart-item', children=[html.Div(children=R_chart1),html.Div(children=R_chart2)],style={'display':'flex'}),\n",
    "            html.Div(className='chart-item', children=[html.Div(children=R_chart3),html.Div(children=R_chart4)],style={'display':'flex'})\n",
    "        ]\n",
    "\n",
    "    elif (input_year and selected_statistics == 'Yearly Statistics'):\n",
    "        yearly_data = data[data['Year'] == input_year]\n",
    "\n",
    "        # Plot 1: Yearly Automobile sales using line chart for the whole period.\n",
    "        yas = data.groupby('Year')['Automobile_Sales'].mean().reset_index()\n",
    "        Y_chart1 = dcc.Graph(figure=px.line(yas, x='Year', y='Automobile_Sales'))\n",
    "\n",
    "        # Plot 2: Total Monthly Automobile sales using line chart.\n",
    "        monthly_sales = data.groupby('Month')['Automobile_Sales'].sum().reset_index()\n",
    "        Y_chart2 = dcc.Graph(figure=px.line(monthly_sales, x='Month', y='Automobile_Sales', title='Total Monthly Automobile Sales'))\n",
    "\n",
    "        # Plot 3: Bar chart for average number of vehicles sold during the given year\n",
    "        avr_vdata = yearly_data.groupby('Year')['Automobile_Sales'].mean().reset_index()\n",
    "        Y_chart3 = dcc.Graph(figure=px.bar(avr_vdata, x='Year', y='Automobile_Sales', title='Average Vehicles Sold by Vehicle Type in the year {}'.format(input_year)))\n",
    "\n",
    "        # Plot 4: Total Advertisement Expenditure for each vehicle using pie chart\n",
    "        exp_data = yearly_data.groupby('Vehicle_Type')['Advertising_Expenditure'].sum().reset_index()\n",
    "        Y_chart4 = dcc.Graph(figure=px.pie(exp_data, values='Advertising_Expenditure', names='Vehicle_Type'))\n",
    "\n",
    "        return [\n",
    "            html.Div(className='chart-item', children=[html.Div(children=Y_chart1),html.Div(children=Y_chart2)],style={'display': 'flex'}),\n",
    "            html.Div(className='chart-item', children=[html.Div(children=Y_chart3),html.Div(children=Y_chart4)],style={'display': 'flex'})\n",
    "        ]"
   ]
  },
  {
   "cell_type": "markdown",
   "metadata": {},
   "source": [
    "# Run the Dashboard"
   ]
  },
  {
   "cell_type": "markdown",
   "metadata": {},
   "source": [
    "Finally, let's run the Dash app."
   ]
  },
  {
   "cell_type": "code",
   "execution_count": 7,
   "metadata": {},
   "outputs": [
    {
     "data": {
      "text/html": [
       "\n",
       "        <iframe\n",
       "            width=\"100%\"\n",
       "            height=\"650\"\n",
       "            src=\"http://127.0.0.1:8050/\"\n",
       "            frameborder=\"0\"\n",
       "            allowfullscreen\n",
       "        ></iframe>\n",
       "        "
      ],
      "text/plain": [
       "<IPython.lib.display.IFrame at 0x1e0707724a8>"
      ]
     },
     "metadata": {},
     "output_type": "display_data"
    }
   ],
   "source": [
    "if __name__ == '__main__':\n",
    "    app.run_server(debug=True)"
   ]
  },
  {
   "cell_type": "markdown",
   "metadata": {},
   "source": [
    "If you found this notebook helpful, please consider supporting it with an upvote!\n"
   ]
  },
  {
   "cell_type": "code",
   "execution_count": null,
   "metadata": {},
   "outputs": [],
   "source": []
  }
 ],
 "metadata": {
  "kernelspec": {
   "display_name": "Python 3",
   "language": "python",
   "name": "python3"
  },
  "language_info": {
   "codemirror_mode": {
    "name": "ipython",
    "version": 3
   },
   "file_extension": ".py",
   "mimetype": "text/x-python",
   "name": "python",
   "nbconvert_exporter": "python",
   "pygments_lexer": "ipython3",
   "version": "3.7.1"
  }
 },
 "nbformat": 4,
 "nbformat_minor": 2
}
